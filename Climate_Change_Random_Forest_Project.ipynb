{
  "nbformat": 4,
  "nbformat_minor": 0,
  "metadata": {
    "colab": {
      "provenance": [],
      "authorship_tag": "ABX9TyPg3BX3ooMum1nXE8bcMAi9",
      "include_colab_link": true
    },
    "kernelspec": {
      "name": "python3",
      "display_name": "Python 3"
    },
    "language_info": {
      "name": "python"
    }
  },
  "cells": [
    {
      "cell_type": "markdown",
      "metadata": {
        "id": "view-in-github",
        "colab_type": "text"
      },
      "source": [
        "<a href=\"https://colab.research.google.com/github/anthony-rio/Portfolio/blob/main/Climate_Change_Random_Forest_Project.ipynb\" target=\"_parent\"><img src=\"https://colab.research.google.com/assets/colab-badge.svg\" alt=\"Open In Colab\"/></a>"
      ]
    },
    {
      "cell_type": "markdown",
      "source": [
        "Load Libraries"
      ],
      "metadata": {
        "id": "nhNl4WY7G0CM"
      }
    },
    {
      "cell_type": "code",
      "execution_count": 1,
      "metadata": {
        "colab": {
          "base_uri": "https://localhost:8080/",
          "height": 445
        },
        "id": "p_kVJWZJ7vds",
        "outputId": "79a6af89-cfc5-49e5-a8e4-960428556a8b"
      },
      "outputs": [
        {
          "output_type": "execute_result",
          "data": {
            "text/plain": [
              "                     Date           Location                Country  \\\n",
              "9995  2022-12-27 15:21:07   South Elaineberg                 Bhutan   \n",
              "9996  2022-12-28 11:30:50       Leblancville                  Congo   \n",
              "9997   2022-12-29 7:40:33     West Stephanie              Argentina   \n",
              "9998   2022-12-30 3:50:17        Port Steven                Albania   \n",
              "9999   2022-12-31 0:00:00  West Anthonyburgh  Sao Tome and Principe   \n",
              "\n",
              "                                  Full Address   Latitude  Longitude  \\\n",
              "9995                  South Elaineberg Bhutan   27.514162  90.433601   \n",
              "9996                       Leblancville Congo   -4.038333  21.758664   \n",
              "9997                 West Stephanie Argentina  -38.416097 -63.616672   \n",
              "9998                      Port Steven Albania   41.153332  20.168331   \n",
              "9999  West Anthonyburgh Sao Tome and Principe    0.186360   6.613081   \n",
              "\n",
              "      Temperature  CO2 Emissions  Sea Level Rise  Precipitation   Humidity  \\\n",
              "9995    15.020523     391.379537       -1.452243      93.417109  25.293814   \n",
              "9996    16.772451     346.921190        0.543616      49.882947  96.787402   \n",
              "9997    22.370025     466.042136        1.026704      30.659841  15.211825   \n",
              "9998    19.430853     337.899776       -0.895329      18.932275  82.774520   \n",
              "9999    12.661928     381.172746        2.260788      78.339658  99.243923   \n",
              "\n",
              "      Wind Speed  \n",
              "9995    6.531866  \n",
              "9996   42.249014  \n",
              "9997   18.293708  \n",
              "9998   42.424255  \n",
              "9999   41.856539  "
            ],
            "text/html": [
              "\n",
              "  <div id=\"df-c13c15bf-2e7c-4e93-bf73-6d76e5c365bb\" class=\"colab-df-container\">\n",
              "    <div>\n",
              "<style scoped>\n",
              "    .dataframe tbody tr th:only-of-type {\n",
              "        vertical-align: middle;\n",
              "    }\n",
              "\n",
              "    .dataframe tbody tr th {\n",
              "        vertical-align: top;\n",
              "    }\n",
              "\n",
              "    .dataframe thead th {\n",
              "        text-align: right;\n",
              "    }\n",
              "</style>\n",
              "<table border=\"1\" class=\"dataframe\">\n",
              "  <thead>\n",
              "    <tr style=\"text-align: right;\">\n",
              "      <th></th>\n",
              "      <th>Date</th>\n",
              "      <th>Location</th>\n",
              "      <th>Country</th>\n",
              "      <th>Full Address</th>\n",
              "      <th>Latitude</th>\n",
              "      <th>Longitude</th>\n",
              "      <th>Temperature</th>\n",
              "      <th>CO2 Emissions</th>\n",
              "      <th>Sea Level Rise</th>\n",
              "      <th>Precipitation</th>\n",
              "      <th>Humidity</th>\n",
              "      <th>Wind Speed</th>\n",
              "    </tr>\n",
              "  </thead>\n",
              "  <tbody>\n",
              "    <tr>\n",
              "      <th>9995</th>\n",
              "      <td>2022-12-27 15:21:07</td>\n",
              "      <td>South Elaineberg</td>\n",
              "      <td>Bhutan</td>\n",
              "      <td>South Elaineberg Bhutan</td>\n",
              "      <td>27.514162</td>\n",
              "      <td>90.433601</td>\n",
              "      <td>15.020523</td>\n",
              "      <td>391.379537</td>\n",
              "      <td>-1.452243</td>\n",
              "      <td>93.417109</td>\n",
              "      <td>25.293814</td>\n",
              "      <td>6.531866</td>\n",
              "    </tr>\n",
              "    <tr>\n",
              "      <th>9996</th>\n",
              "      <td>2022-12-28 11:30:50</td>\n",
              "      <td>Leblancville</td>\n",
              "      <td>Congo</td>\n",
              "      <td>Leblancville Congo</td>\n",
              "      <td>-4.038333</td>\n",
              "      <td>21.758664</td>\n",
              "      <td>16.772451</td>\n",
              "      <td>346.921190</td>\n",
              "      <td>0.543616</td>\n",
              "      <td>49.882947</td>\n",
              "      <td>96.787402</td>\n",
              "      <td>42.249014</td>\n",
              "    </tr>\n",
              "    <tr>\n",
              "      <th>9997</th>\n",
              "      <td>2022-12-29 7:40:33</td>\n",
              "      <td>West Stephanie</td>\n",
              "      <td>Argentina</td>\n",
              "      <td>West Stephanie Argentina</td>\n",
              "      <td>-38.416097</td>\n",
              "      <td>-63.616672</td>\n",
              "      <td>22.370025</td>\n",
              "      <td>466.042136</td>\n",
              "      <td>1.026704</td>\n",
              "      <td>30.659841</td>\n",
              "      <td>15.211825</td>\n",
              "      <td>18.293708</td>\n",
              "    </tr>\n",
              "    <tr>\n",
              "      <th>9998</th>\n",
              "      <td>2022-12-30 3:50:17</td>\n",
              "      <td>Port Steven</td>\n",
              "      <td>Albania</td>\n",
              "      <td>Port Steven Albania</td>\n",
              "      <td>41.153332</td>\n",
              "      <td>20.168331</td>\n",
              "      <td>19.430853</td>\n",
              "      <td>337.899776</td>\n",
              "      <td>-0.895329</td>\n",
              "      <td>18.932275</td>\n",
              "      <td>82.774520</td>\n",
              "      <td>42.424255</td>\n",
              "    </tr>\n",
              "    <tr>\n",
              "      <th>9999</th>\n",
              "      <td>2022-12-31 0:00:00</td>\n",
              "      <td>West Anthonyburgh</td>\n",
              "      <td>Sao Tome and Principe</td>\n",
              "      <td>West Anthonyburgh Sao Tome and Principe</td>\n",
              "      <td>0.186360</td>\n",
              "      <td>6.613081</td>\n",
              "      <td>12.661928</td>\n",
              "      <td>381.172746</td>\n",
              "      <td>2.260788</td>\n",
              "      <td>78.339658</td>\n",
              "      <td>99.243923</td>\n",
              "      <td>41.856539</td>\n",
              "    </tr>\n",
              "  </tbody>\n",
              "</table>\n",
              "</div>\n",
              "    <div class=\"colab-df-buttons\">\n",
              "\n",
              "  <div class=\"colab-df-container\">\n",
              "    <button class=\"colab-df-convert\" onclick=\"convertToInteractive('df-c13c15bf-2e7c-4e93-bf73-6d76e5c365bb')\"\n",
              "            title=\"Convert this dataframe to an interactive table.\"\n",
              "            style=\"display:none;\">\n",
              "\n",
              "  <svg xmlns=\"http://www.w3.org/2000/svg\" height=\"24px\" viewBox=\"0 -960 960 960\">\n",
              "    <path d=\"M120-120v-720h720v720H120Zm60-500h600v-160H180v160Zm220 220h160v-160H400v160Zm0 220h160v-160H400v160ZM180-400h160v-160H180v160Zm440 0h160v-160H620v160ZM180-180h160v-160H180v160Zm440 0h160v-160H620v160Z\"/>\n",
              "  </svg>\n",
              "    </button>\n",
              "\n",
              "  <style>\n",
              "    .colab-df-container {\n",
              "      display:flex;\n",
              "      gap: 12px;\n",
              "    }\n",
              "\n",
              "    .colab-df-convert {\n",
              "      background-color: #E8F0FE;\n",
              "      border: none;\n",
              "      border-radius: 50%;\n",
              "      cursor: pointer;\n",
              "      display: none;\n",
              "      fill: #1967D2;\n",
              "      height: 32px;\n",
              "      padding: 0 0 0 0;\n",
              "      width: 32px;\n",
              "    }\n",
              "\n",
              "    .colab-df-convert:hover {\n",
              "      background-color: #E2EBFA;\n",
              "      box-shadow: 0px 1px 2px rgba(60, 64, 67, 0.3), 0px 1px 3px 1px rgba(60, 64, 67, 0.15);\n",
              "      fill: #174EA6;\n",
              "    }\n",
              "\n",
              "    .colab-df-buttons div {\n",
              "      margin-bottom: 4px;\n",
              "    }\n",
              "\n",
              "    [theme=dark] .colab-df-convert {\n",
              "      background-color: #3B4455;\n",
              "      fill: #D2E3FC;\n",
              "    }\n",
              "\n",
              "    [theme=dark] .colab-df-convert:hover {\n",
              "      background-color: #434B5C;\n",
              "      box-shadow: 0px 1px 3px 1px rgba(0, 0, 0, 0.15);\n",
              "      filter: drop-shadow(0px 1px 2px rgba(0, 0, 0, 0.3));\n",
              "      fill: #FFFFFF;\n",
              "    }\n",
              "  </style>\n",
              "\n",
              "    <script>\n",
              "      const buttonEl =\n",
              "        document.querySelector('#df-c13c15bf-2e7c-4e93-bf73-6d76e5c365bb button.colab-df-convert');\n",
              "      buttonEl.style.display =\n",
              "        google.colab.kernel.accessAllowed ? 'block' : 'none';\n",
              "\n",
              "      async function convertToInteractive(key) {\n",
              "        const element = document.querySelector('#df-c13c15bf-2e7c-4e93-bf73-6d76e5c365bb');\n",
              "        const dataTable =\n",
              "          await google.colab.kernel.invokeFunction('convertToInteractive',\n",
              "                                                    [key], {});\n",
              "        if (!dataTable) return;\n",
              "\n",
              "        const docLinkHtml = 'Like what you see? Visit the ' +\n",
              "          '<a target=\"_blank\" href=https://colab.research.google.com/notebooks/data_table.ipynb>data table notebook</a>'\n",
              "          + ' to learn more about interactive tables.';\n",
              "        element.innerHTML = '';\n",
              "        dataTable['output_type'] = 'display_data';\n",
              "        await google.colab.output.renderOutput(dataTable, element);\n",
              "        const docLink = document.createElement('div');\n",
              "        docLink.innerHTML = docLinkHtml;\n",
              "        element.appendChild(docLink);\n",
              "      }\n",
              "    </script>\n",
              "  </div>\n",
              "\n",
              "\n",
              "<div id=\"df-12c654ac-6415-4e3a-8412-b476207e81ec\">\n",
              "  <button class=\"colab-df-quickchart\" onclick=\"quickchart('df-12c654ac-6415-4e3a-8412-b476207e81ec')\"\n",
              "            title=\"Suggest charts\"\n",
              "            style=\"display:none;\">\n",
              "\n",
              "<svg xmlns=\"http://www.w3.org/2000/svg\" height=\"24px\"viewBox=\"0 0 24 24\"\n",
              "     width=\"24px\">\n",
              "    <g>\n",
              "        <path d=\"M19 3H5c-1.1 0-2 .9-2 2v14c0 1.1.9 2 2 2h14c1.1 0 2-.9 2-2V5c0-1.1-.9-2-2-2zM9 17H7v-7h2v7zm4 0h-2V7h2v10zm4 0h-2v-4h2v4z\"/>\n",
              "    </g>\n",
              "</svg>\n",
              "  </button>\n",
              "\n",
              "<style>\n",
              "  .colab-df-quickchart {\n",
              "      --bg-color: #E8F0FE;\n",
              "      --fill-color: #1967D2;\n",
              "      --hover-bg-color: #E2EBFA;\n",
              "      --hover-fill-color: #174EA6;\n",
              "      --disabled-fill-color: #AAA;\n",
              "      --disabled-bg-color: #DDD;\n",
              "  }\n",
              "\n",
              "  [theme=dark] .colab-df-quickchart {\n",
              "      --bg-color: #3B4455;\n",
              "      --fill-color: #D2E3FC;\n",
              "      --hover-bg-color: #434B5C;\n",
              "      --hover-fill-color: #FFFFFF;\n",
              "      --disabled-bg-color: #3B4455;\n",
              "      --disabled-fill-color: #666;\n",
              "  }\n",
              "\n",
              "  .colab-df-quickchart {\n",
              "    background-color: var(--bg-color);\n",
              "    border: none;\n",
              "    border-radius: 50%;\n",
              "    cursor: pointer;\n",
              "    display: none;\n",
              "    fill: var(--fill-color);\n",
              "    height: 32px;\n",
              "    padding: 0;\n",
              "    width: 32px;\n",
              "  }\n",
              "\n",
              "  .colab-df-quickchart:hover {\n",
              "    background-color: var(--hover-bg-color);\n",
              "    box-shadow: 0 1px 2px rgba(60, 64, 67, 0.3), 0 1px 3px 1px rgba(60, 64, 67, 0.15);\n",
              "    fill: var(--button-hover-fill-color);\n",
              "  }\n",
              "\n",
              "  .colab-df-quickchart-complete:disabled,\n",
              "  .colab-df-quickchart-complete:disabled:hover {\n",
              "    background-color: var(--disabled-bg-color);\n",
              "    fill: var(--disabled-fill-color);\n",
              "    box-shadow: none;\n",
              "  }\n",
              "\n",
              "  .colab-df-spinner {\n",
              "    border: 2px solid var(--fill-color);\n",
              "    border-color: transparent;\n",
              "    border-bottom-color: var(--fill-color);\n",
              "    animation:\n",
              "      spin 1s steps(1) infinite;\n",
              "  }\n",
              "\n",
              "  @keyframes spin {\n",
              "    0% {\n",
              "      border-color: transparent;\n",
              "      border-bottom-color: var(--fill-color);\n",
              "      border-left-color: var(--fill-color);\n",
              "    }\n",
              "    20% {\n",
              "      border-color: transparent;\n",
              "      border-left-color: var(--fill-color);\n",
              "      border-top-color: var(--fill-color);\n",
              "    }\n",
              "    30% {\n",
              "      border-color: transparent;\n",
              "      border-left-color: var(--fill-color);\n",
              "      border-top-color: var(--fill-color);\n",
              "      border-right-color: var(--fill-color);\n",
              "    }\n",
              "    40% {\n",
              "      border-color: transparent;\n",
              "      border-right-color: var(--fill-color);\n",
              "      border-top-color: var(--fill-color);\n",
              "    }\n",
              "    60% {\n",
              "      border-color: transparent;\n",
              "      border-right-color: var(--fill-color);\n",
              "    }\n",
              "    80% {\n",
              "      border-color: transparent;\n",
              "      border-right-color: var(--fill-color);\n",
              "      border-bottom-color: var(--fill-color);\n",
              "    }\n",
              "    90% {\n",
              "      border-color: transparent;\n",
              "      border-bottom-color: var(--fill-color);\n",
              "    }\n",
              "  }\n",
              "</style>\n",
              "\n",
              "  <script>\n",
              "    async function quickchart(key) {\n",
              "      const quickchartButtonEl =\n",
              "        document.querySelector('#' + key + ' button');\n",
              "      quickchartButtonEl.disabled = true;  // To prevent multiple clicks.\n",
              "      quickchartButtonEl.classList.add('colab-df-spinner');\n",
              "      try {\n",
              "        const charts = await google.colab.kernel.invokeFunction(\n",
              "            'suggestCharts', [key], {});\n",
              "      } catch (error) {\n",
              "        console.error('Error during call to suggestCharts:', error);\n",
              "      }\n",
              "      quickchartButtonEl.classList.remove('colab-df-spinner');\n",
              "      quickchartButtonEl.classList.add('colab-df-quickchart-complete');\n",
              "    }\n",
              "    (() => {\n",
              "      let quickchartButtonEl =\n",
              "        document.querySelector('#df-12c654ac-6415-4e3a-8412-b476207e81ec button');\n",
              "      quickchartButtonEl.style.display =\n",
              "        google.colab.kernel.accessAllowed ? 'block' : 'none';\n",
              "    })();\n",
              "  </script>\n",
              "</div>\n",
              "\n",
              "    </div>\n",
              "  </div>\n"
            ],
            "application/vnd.google.colaboratory.intrinsic+json": {
              "type": "dataframe",
              "repr_error": "0"
            }
          },
          "metadata": {},
          "execution_count": 1
        }
      ],
      "source": [
        "\n",
        "import pandas as pd\n",
        "import numpy as np\n",
        "import matplotlib.pyplot as plt\n",
        "\n",
        "raw_data = pd.read_csv(\"climate_change_data.csv\")\n",
        "raw_data.tail()"
      ]
    },
    {
      "cell_type": "markdown",
      "source": [
        "Example Date"
      ],
      "metadata": {
        "id": "TSzITyYUHx_W"
      }
    },
    {
      "cell_type": "code",
      "source": [
        "raw_data[\"Date\"][1]"
      ],
      "metadata": {
        "colab": {
          "base_uri": "https://localhost:8080/",
          "height": 35
        },
        "id": "kBdUOem7DrSR",
        "outputId": "4d50c139-6612-4a8d-f390-6448da4401c8"
      },
      "execution_count": null,
      "outputs": [
        {
          "output_type": "execute_result",
          "data": {
            "text/plain": [
              "'2000-01-01 20:09:43.258325832'"
            ],
            "application/vnd.google.colaboratory.intrinsic+json": {
              "type": "string"
            }
          },
          "metadata": {},
          "execution_count": 11
        }
      ]
    },
    {
      "cell_type": "markdown",
      "source": [
        "Convert to Fractional Year"
      ],
      "metadata": {
        "id": "BuoowVw-PCef"
      }
    },
    {
      "cell_type": "code",
      "source": [
        "from datetime import datetime\n",
        "\n",
        "def convert_to_fractional_year(date_str):\n",
        "    # Truncate the milliseconds part\n",
        "    date_str_truncated = date_str.split('.')[0]\n",
        "    datetime_obj = datetime.strptime(date_str_truncated, \"%Y-%m-%d %H:%M:%S\")\n",
        "    year = datetime_obj.year\n",
        "    fractional_year = (datetime_obj - datetime(year, 1, 1)).total_seconds() / (365.25 * 24 * 60 * 60)\n",
        "    return year + fractional_year\n",
        "\n",
        "# Apply the function to every value in the 'Date' column\n",
        "raw_data['Fractional_Year'] = raw_data['Date'].apply(convert_to_fractional_year)\n",
        "\n",
        "\n",
        "\n"
      ],
      "metadata": {
        "id": "FyaR19yKHzLH"
      },
      "execution_count": 2,
      "outputs": []
    },
    {
      "cell_type": "markdown",
      "source": [
        "Take out rows with NAs"
      ],
      "metadata": {
        "id": "cMWBa5CyGPG8"
      }
    },
    {
      "cell_type": "code",
      "source": [
        "final_data = raw_data[~raw_data[\"Longitude\"].isna()]"
      ],
      "metadata": {
        "id": "-tDgvlecI2ui"
      },
      "execution_count": 12,
      "outputs": []
    },
    {
      "cell_type": "code",
      "source": [
        "features = final_data[[\"Fractional_Year\", \"Latitude\", \"Longitude\", \"CO2 Emissions\", \"Temperature\", \"Precipitation\", \"Humidity\", \"Wind Speed\"]]\n",
        "temp = final_data[\"Sea Level Rise\"]"
      ],
      "metadata": {
        "id": "KGbBPcwiJV6J"
      },
      "execution_count": 31,
      "outputs": []
    },
    {
      "cell_type": "markdown",
      "source": [
        "Split into train and test data"
      ],
      "metadata": {
        "id": "QB_uHylaN2nN"
      }
    },
    {
      "cell_type": "code",
      "source": [
        "# Using Skicit-learn to split data into training and testing sets\n",
        "from sklearn.model_selection import train_test_split\n",
        "# Split the data into training and testing sets\n",
        "train_features, test_features, train_labels, test_labels = train_test_split(features, temp, test_size = 0.3, random_state = 2)"
      ],
      "metadata": {
        "id": "6v5SSejnM8fQ"
      },
      "execution_count": 32,
      "outputs": []
    },
    {
      "cell_type": "markdown",
      "source": [
        "Train Random Forest"
      ],
      "metadata": {
        "id": "Yp7qxVQYOCzW"
      }
    },
    {
      "cell_type": "code",
      "source": [
        "# Import the model we are using\n",
        "from sklearn.ensemble import RandomForestRegressor\n",
        "# Instantiate model with 1000 decision trees\n",
        "rf = RandomForestRegressor(n_estimators = 300, random_state = 2)\n",
        "# Train the model on training data\n",
        "rf.fit(train_features, train_labels);"
      ],
      "metadata": {
        "id": "Y3X-999vN4h6"
      },
      "execution_count": 41,
      "outputs": []
    },
    {
      "cell_type": "markdown",
      "source": [
        "Test Random Forest"
      ],
      "metadata": {
        "id": "9MX9zk4zOPTO"
      }
    },
    {
      "cell_type": "code",
      "source": [
        "# Use the forest's predict method on the test data\n",
        "predictions = rf.predict(test_features)\n",
        "# Calculate the absolute errors\n",
        "errors = abs(predictions - test_labels)\n",
        "# Print out the mean absolute error (mae)\n",
        "print('Mean Absolute Error:', round(np.mean(errors), 2), 'cm.')"
      ],
      "metadata": {
        "colab": {
          "base_uri": "https://localhost:8080/"
        },
        "id": "Y6GHg0B5OBbZ",
        "outputId": "5c7ef994-2d78-4479-f4e7-46ab4f8458bf"
      },
      "execution_count": 40,
      "outputs": [
        {
          "output_type": "stream",
          "name": "stdout",
          "text": [
            "Mean Absolute Error: 0.79 cm.\n"
          ]
        }
      ]
    }
  ]
}